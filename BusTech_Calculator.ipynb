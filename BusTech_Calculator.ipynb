{
  "nbformat": 4,
  "nbformat_minor": 0,
  "metadata": {
    "colab": {
      "provenance": [],
      "authorship_tag": "ABX9TyNy+nP72AWvRdVLmFlbeEiB",
      "include_colab_link": true
    },
    "kernelspec": {
      "name": "python3",
      "display_name": "Python 3"
    },
    "language_info": {
      "name": "python"
    }
  },
  "cells": [
    {
      "cell_type": "markdown",
      "metadata": {
        "id": "view-in-github",
        "colab_type": "text"
      },
      "source": [
        "<a href=\"https://colab.research.google.com/github/kfm57/BTE-320-Kayla-Martins/blob/main/BusTech_Calculator.ipynb\" target=\"_parent\"><img src=\"https://colab.research.google.com/assets/colab-badge.svg\" alt=\"Open In Colab\"/></a>"
      ]
    },
    {
      "cell_type": "code",
      "execution_count": null,
      "metadata": {
        "colab": {
          "base_uri": "https://localhost:8080/"
        },
        "id": "AUYMPogf3Xem",
        "outputId": "22791e75-bef8-457e-c3c7-4f8dcc15751a"
      },
      "outputs": [
        {
          "output_type": "stream",
          "name": "stdout",
          "text": [
            "Enter an operator: and\n",
            "Enter first number: 5\n",
            "Enter second number: 6\n",
            "Invalid operator: 'and'\n"
          ]
        }
      ],
      "source": [
        "while True:\n",
        "  operator = input('Enter an operator: ')\n",
        "\n",
        "  if operator == 'break':\n",
        "    break\n",
        "\n",
        "  num1 = float(input('Enter first number: '))\n",
        "  num2 = float(input('Enter second number: '))\n",
        "\n",
        "  if operator == \"+\":\n",
        "    print(f' {num1} + {num2} = {num1 + num2}')\n",
        "  elif operator == \"-\":\n",
        "    print(f' {num1} - {num2} = {num1 - num2}')\n",
        "  elif operator == \"*\":\n",
        "    print(f' {num1} * {num2} = {num1 * num2}')\n",
        "  elif operator == \"/\":\n",
        "    print(f' {num1} / {num2} = {num1 / num2}')\n",
        "  elif operator == \"//\":\n",
        "    print(f' {num1} // {num2} = {num1 // num2}')\n",
        "  elif operator == \"**\":\n",
        "    print(f' {num1} ** {num2} = {num1 ** num2}')\n",
        "  elif operator == \"%\":\n",
        "    print(f' {num1} % {num2} = {num1 % num2}')\n",
        "  else:\n",
        "    print(f'Invalid operator: \\'{operator}\\'')\n",
        "    continue"
      ]
    }
  ]
}
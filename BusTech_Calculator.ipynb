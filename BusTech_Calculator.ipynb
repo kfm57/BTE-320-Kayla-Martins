{
  "nbformat": 4,
  "nbformat_minor": 0,
  "metadata": {
    "colab": {
      "provenance": [],
      "authorship_tag": "ABX9TyPusBbXQVJ8RDmNPiD7YPa1",
      "include_colab_link": true
    },
    "kernelspec": {
      "name": "python3",
      "display_name": "Python 3"
    },
    "language_info": {
      "name": "python"
    }
  },
  "cells": [
    {
      "cell_type": "markdown",
      "metadata": {
        "id": "view-in-github",
        "colab_type": "text"
      },
      "source": [
        "<a href=\"https://colab.research.google.com/github/kfm57/BTE-320-Kayla-Martins/blob/main/BusTech_Calculator.ipynb\" target=\"_parent\"><img src=\"https://colab.research.google.com/assets/colab-badge.svg\" alt=\"Open In Colab\"/></a>"
      ]
    },
    {
      "cell_type": "code",
      "execution_count": 1,
      "metadata": {
        "colab": {
          "base_uri": "https://localhost:8080/",
          "height": 143
        },
        "id": "AUYMPogf3Xem",
        "outputId": "472dd632-88a1-4bb2-aba4-b2f4d58d1c4b"
      },
      "outputs": [
        {
          "output_type": "error",
          "ename": "SyntaxError",
          "evalue": "unexpected character after line continuation character (<ipython-input-1-ffb221ce112f>, line 25)",
          "traceback": [
            "\u001b[0;36m  File \u001b[0;32m\"<ipython-input-1-ffb221ce112f>\"\u001b[0;36m, line \u001b[0;32m25\u001b[0m\n\u001b[0;31m    print(f'Invalid operator: \\ '{operator}\\'')\u001b[0m\n\u001b[0m                                            ^\u001b[0m\n\u001b[0;31mSyntaxError\u001b[0m\u001b[0;31m:\u001b[0m unexpected character after line continuation character\n"
          ]
        }
      ],
      "source": [
        "while True:\n",
        "  operator = input('Enter an operator: ')\n",
        "\n",
        "  if operator == 'break':\n",
        "    break\n",
        "\n",
        "  num1 = float(input('Enter first number: '))\n",
        "  num2 = float(input('Enter second number: '))\n",
        "\n",
        "if operator == \"+\":\n",
        "  print(f' {num1} + {num2} = {num1 + num2}')\n",
        "elif operator == \"-\":\n",
        "  print(f' {num1} - {num2} = {num1 - num2}')\n",
        "elif operator == \"*\":\n",
        "  print(f' {num1} * {num2} = {num1 * num2}')\n",
        "elif operator == \"/\":\n",
        "  print(f' {num1} / {num2} = {num1 / num2}')\n",
        "elif operator == \"//\":\n",
        "  print(f' {num1} // {num2} = {num1 // num2}')\n",
        "elif operator == \"**\":\n",
        "  print(f' {num1} ** {num2} = {num1 ** num2}')\n",
        "elif operator == \"%\":\n",
        "  print(f' {num1} % {num2} = {num1 % num2}')\n",
        "else:\n",
        "  print(f'Invalid operator: \\'{operator}\\'')\n",
        "  continue"
      ]
    }
  ]
}
{
  "nbformat": 4,
  "nbformat_minor": 0,
  "metadata": {
    "colab": {
      "provenance": [],
      "authorship_tag": "ABX9TyPj0F/SQsLkuLFiqJTM/Iea",
      "include_colab_link": true
    },
    "kernelspec": {
      "name": "python3",
      "display_name": "Python 3"
    },
    "language_info": {
      "name": "python"
    }
  },
  "cells": [
    {
      "cell_type": "markdown",
      "metadata": {
        "id": "view-in-github",
        "colab_type": "text"
      },
      "source": [
        "<a href=\"https://colab.research.google.com/github/kfm57/BTE-320-Kayla-Martins/blob/main/Class_Problems_2_22.ipynb\" target=\"_parent\"><img src=\"https://colab.research.google.com/assets/colab-badge.svg\" alt=\"Open In Colab\"/></a>"
      ]
    },
    {
      "cell_type": "code",
      "execution_count": null,
      "metadata": {
        "colab": {
          "base_uri": "https://localhost:8080/"
        },
        "id": "EJfCAXAxSF-3",
        "outputId": "ff49c257-ee36-491e-ce29-426a4053386a"
      },
      "outputs": [
        {
          "output_type": "stream",
          "name": "stdout",
          "text": [
            "a\n",
            "b\n",
            "d\n",
            "g\n",
            "g\n",
            "g\n",
            "g\n",
            "g\n",
            "g\n",
            "g\n"
          ]
        }
      ],
      "source": [
        "s1 = 'abcdefg'\n",
        "s2 = 'abdght'\n",
        "\n",
        "for char in s1:\n",
        "  if char in s2:\n",
        "    print(char)\n",
        "\n",
        "for i in range (len(s1)):\n",
        "  if i in range(len(s2)):\n",
        "    print(char)"
      ]
    },
    {
      "cell_type": "code",
      "source": [
        "s = ''\n",
        "\n",
        "for i in range (5):\n",
        "  s = s + 'a'\n",
        "  print(len(s), s)"
      ],
      "metadata": {
        "colab": {
          "base_uri": "https://localhost:8080/"
        },
        "id": "uOPnJtXzZp7J",
        "outputId": "d366e08b-a182-4cbb-b6bd-224cf1ad5e15"
      },
      "execution_count": null,
      "outputs": [
        {
          "output_type": "stream",
          "name": "stdout",
          "text": [
            "1 a\n",
            "2 aa\n",
            "3 aaa\n",
            "4 aaaa\n",
            "5 aaaaa\n"
          ]
        }
      ]
    }
  ]
}
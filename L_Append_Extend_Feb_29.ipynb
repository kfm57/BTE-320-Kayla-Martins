{
  "nbformat": 4,
  "nbformat_minor": 0,
  "metadata": {
    "colab": {
      "provenance": [],
      "authorship_tag": "ABX9TyMppAekidsEAlZB9kPJUHra",
      "include_colab_link": true
    },
    "kernelspec": {
      "name": "python3",
      "display_name": "Python 3"
    },
    "language_info": {
      "name": "python"
    }
  },
  "cells": [
    {
      "cell_type": "markdown",
      "metadata": {
        "id": "view-in-github",
        "colab_type": "text"
      },
      "source": [
        "<a href=\"https://colab.research.google.com/github/kfm57/BTE-320-Kayla-Martins/blob/main/L_Append_Extend_Feb_29.ipynb\" target=\"_parent\"><img src=\"https://colab.research.google.com/assets/colab-badge.svg\" alt=\"Open In Colab\"/></a>"
      ]
    },
    {
      "cell_type": "code",
      "execution_count": 6,
      "metadata": {
        "colab": {
          "base_uri": "https://localhost:8080/",
          "height": 108
        },
        "id": "NSb21JNiRRwY",
        "outputId": "d8900d00-2252-43bc-9839-14573e050664"
      },
      "outputs": [
        {
          "output_type": "error",
          "ename": "SyntaxError",
          "evalue": "Missing parentheses in call to 'print'. Did you mean print(...)? (<ipython-input-6-34b79f3dabc7>, line 1)",
          "traceback": [
            "\u001b[0;36m  File \u001b[0;32m\"<ipython-input-6-34b79f3dabc7>\"\u001b[0;36m, line \u001b[0;32m1\u001b[0m\n\u001b[0;31m    L = [1, 'two', 3.0, print [5, 7, 9]]\u001b[0m\n\u001b[0m                        ^\u001b[0m\n\u001b[0;31mSyntaxError\u001b[0m\u001b[0;31m:\u001b[0m Missing parentheses in call to 'print'. Did you mean print(...)?\n"
          ]
        }
      ],
      "source": [
        "L = [1, 'two', 3.0, print [5, 7, 9]]\n",
        "len(L)\n",
        "\n",
        "[24] L + ['three']\n",
        "    [1, 'two', 3.0, <function print>, [5,7,9],'three']\n",
        "\n",
        "L.append (['three',4])"
      ]
    },
    {
      "cell_type": "code",
      "source": [
        "L.entend(['three',4])\n",
        "L"
      ],
      "metadata": {
        "id": "gkVW1VlbSSMv"
      },
      "execution_count": null,
      "outputs": []
    },
    {
      "cell_type": "code",
      "source": [
        "L.pop(2)\n",
        "L\n",
        "[1, 'two', <function print>, [5, 7, 9], 'three']"
      ],
      "metadata": {
        "id": "QHu26s5KTIYV"
      },
      "execution_count": null,
      "outputs": []
    },
    {
      "cell_type": "code",
      "source": [
        "numbers= [5, 7, 3, 0, 1, 6]\n",
        "numbers.sort()\n",
        "numbers"
      ],
      "metadata": {
        "colab": {
          "base_uri": "https://localhost:8080/"
        },
        "id": "qaWgvwqxT-rO",
        "outputId": "c4bc699f-5d1c-4595-ce14-3a5ac287586a"
      },
      "execution_count": 7,
      "outputs": [
        {
          "output_type": "execute_result",
          "data": {
            "text/plain": [
              "[0, 1, 3, 5, 6, 7]"
            ]
          },
          "metadata": {},
          "execution_count": 7
        }
      ]
    },
    {
      "cell_type": "code",
      "source": [
        "L = []\n",
        "\n",
        "number = int(input('Enter a value: '))\n",
        "\n",
        "while number !=0:\n",
        "    L.append(number)\n",
        "    number = int(input('Enter a value: '))\n",
        "L"
      ],
      "metadata": {
        "colab": {
          "base_uri": "https://localhost:8080/"
        },
        "id": "L5znhU3GVL3o",
        "outputId": "05a777d9-889f-4898-909b-5b12d051b540"
      },
      "execution_count": 13,
      "outputs": [
        {
          "name": "stdout",
          "output_type": "stream",
          "text": [
            "Enter a value: 2\n",
            "Enter a value: 9\n",
            "Enter a value: 0\n"
          ]
        },
        {
          "output_type": "execute_result",
          "data": {
            "text/plain": [
              "[2, 9]"
            ]
          },
          "metadata": {},
          "execution_count": 13
        }
      ]
    },
    {
      "cell_type": "code",
      "source": [
        "l1 = [1, 2, 3, 4]\n",
        "l2 = [1, 2, 5, 6]\n",
        "\n",
        "for item in l1[:]:\n",
        "  if item in l2:\n",
        "    l1.remove(item)\n",
        "\n",
        "l1"
      ],
      "metadata": {
        "colab": {
          "base_uri": "https://localhost:8080/"
        },
        "id": "_YBsYVFVa1Bx",
        "outputId": "1fd166aa-23be-4a75-e893-f1d99f07b426"
      },
      "execution_count": 17,
      "outputs": [
        {
          "output_type": "execute_result",
          "data": {
            "text/plain": [
              "[3, 4]"
            ]
          },
          "metadata": {},
          "execution_count": 17
        }
      ]
    },
    {
      "cell_type": "code",
      "source": [
        "t=(1, 'two', 3.0)"
      ],
      "metadata": {
        "id": "BW9-yX_Kcnxo"
      },
      "execution_count": 18,
      "outputs": []
    }
  ]
}
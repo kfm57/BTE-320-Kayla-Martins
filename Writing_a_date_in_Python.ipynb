{
  "nbformat": 4,
  "nbformat_minor": 0,
  "metadata": {
    "colab": {
      "provenance": [],
      "authorship_tag": "ABX9TyMPL7AL2kDu5k0MM2Px51PK",
      "include_colab_link": true
    },
    "kernelspec": {
      "name": "python3",
      "display_name": "Python 3"
    },
    "language_info": {
      "name": "python"
    }
  },
  "cells": [
    {
      "cell_type": "markdown",
      "metadata": {
        "id": "view-in-github",
        "colab_type": "text"
      },
      "source": [
        "<a href=\"https://colab.research.google.com/github/kfm57/BTE-320-Kayla-Martins/blob/main/Writing_a_date_in_Python.ipynb\" target=\"_parent\"><img src=\"https://colab.research.google.com/assets/colab-badge.svg\" alt=\"Open In Colab\"/></a>"
      ]
    },
    {
      "cell_type": "code",
      "source": [
        "user_Input = input(\"Enter today's Date in the format mm/dd/yyyy: \")\n",
        "month = user_Input[0:2]\n",
        "day = user_Input[3:5]\n",
        "year = user_Input[6:10]\n",
        "print(' month: ', month)\n",
        "print(' day: ', day)\n",
        "print('year: ', year)\n"
      ],
      "metadata": {
        "colab": {
          "base_uri": "https://localhost:8080/"
        },
        "id": "Zx5KAwewH_8L",
        "outputId": "354c701e-e1bc-4305-f0c8-d4b02e7c3ad6"
      },
      "execution_count": null,
      "outputs": [
        {
          "output_type": "stream",
          "name": "stdout",
          "text": [
            "Enter today's Date in the format mm/dd/yyyy: 02/22/2024\n",
            " month:  02\n",
            " day:  22\n",
            "year:  2024\n"
          ]
        }
      ]
    }
  ]
}